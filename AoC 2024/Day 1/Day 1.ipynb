{
 "cells": [
  {
   "cell_type": "markdown",
   "id": "99bf1f6c-7bd9-45a3-b40d-974243f1bc53",
   "metadata": {},
   "source": [
    "# PART 1\n",
    "\n",
    "- Pair up the numbers and measure how far apart they are. Pair up the smallest number in the left list with the smallest number in the right list, then the second-smallest left number with the second-smallest right number, and so on.\n",
    "- Within each pair, figure out how far apart the two numbers are\n",
    "- Add up the distances between each pair. What is the total distance?\n"
   ]
  },
  {
   "cell_type": "markdown",
   "id": "3ad11b4e-50ee-43fd-8467-b84bd13ffb58",
   "metadata": {},
   "source": [
    "## Getting and cleaning the data\n",
    "\n",
    "Make sure to strip any spaces from the ends of rows!"
   ]
  },
  {
   "cell_type": "code",
   "execution_count": 33,
   "id": "0e4db925-4525-457a-ac41-d8db67fb5b2c",
   "metadata": {},
   "outputs": [],
   "source": [
    "file = \"input.txt\"\n",
    "# file = \"test.txt\"\n",
    "\n",
    "f = open(file, \"r\")\n",
    "file_data = f.readlines()\n",
    "f.close()\n",
    "\n",
    "list1 = []\n",
    "list2 = []\n",
    "\n",
    "for row in file_data:\n",
    "    stripped_row = row.strip() # data is a string in the form \"3 4\"\n",
    "    # split it on the space, turn the numbers into ints\n",
    "    first_number, second_number = list(map(lambda x: int(x), stripped_row.split()))\n",
    "    \n",
    "    list1.append(first_number)\n",
    "    list2.append(second_number)"
   ]
  },
  {
   "cell_type": "markdown",
   "id": "3812cb2a-b696-4782-9fba-a126c4109786",
   "metadata": {},
   "source": [
    "## Pair up the numbers and measure how far apart they are\n",
    "Pair up the smallest number in the left list with the smallest number in the right list, then the second-smallest left number with the second-smallest right number"
   ]
  },
  {
   "cell_type": "code",
   "execution_count": 34,
   "id": "d910fe77-849d-43c9-86f5-e410ab0a14af",
   "metadata": {},
   "outputs": [],
   "source": [
    "sorted_list1 = sorted(list1)\n",
    "sorted_list2 = sorted(list2)"
   ]
  },
  {
   "cell_type": "markdown",
   "id": "4403d84e-5b74-4bf5-905d-536848a4118e",
   "metadata": {},
   "source": [
    "They are now sorted in ascending order"
   ]
  },
  {
   "cell_type": "code",
   "execution_count": null,
   "id": "d5928cd5-7bc9-4346-90be-b8cc144278dc",
   "metadata": {},
   "outputs": [],
   "source": [
    "distances = []\n",
    "for i in range(len(sorted_list1)):\n",
    "    comparison = [sorted_list1[i], sorted_list2[i]] # makes a list of two integers which can then have max/min applied\n",
    "    difference = max(comparison) - min(comparison) \n",
    "    distances.append(difference)   "
   ]
  },
  {
   "cell_type": "markdown",
   "id": "f0b1221e",
   "metadata": {},
   "source": [
    "Edit: We could have just calculated A-B and used absolute to remove any negative results. Also distances could have been set to 0 and added to instead of being a list but I wanted to keep the information in case it was relevant to part 2"
   ]
  },
  {
   "cell_type": "markdown",
   "id": "213ae48e-2de1-4315-9734-f1750f60a7ee",
   "metadata": {},
   "source": [
    "## Add up the distances between each pair. What is the total distance?"
   ]
  },
  {
   "cell_type": "code",
   "execution_count": 36,
   "id": "5ba6555a-6614-42d9-8287-730b8c101590",
   "metadata": {},
   "outputs": [
    {
     "name": "stdout",
     "output_type": "stream",
     "text": [
      "2580760\n"
     ]
    }
   ],
   "source": [
    "total_distance = sum(distances)\n",
    "print(total_distance)"
   ]
  },
  {
   "cell_type": "markdown",
   "id": "916f1a05-7d2b-4f62-98b3-3f27c64796c3",
   "metadata": {},
   "source": [
    "# PART 2\n",
    "\n",
    "### Calculate a total similarity score by adding up each number in the left list after multiplying it by the number of times that number appears in the right list\n",
    "\n"
   ]
  },
  {
   "cell_type": "code",
   "execution_count": 37,
   "id": "2b2ffc07-38f8-425f-8d9d-13ee8138f993",
   "metadata": {},
   "outputs": [],
   "source": [
    "from collections import Counter"
   ]
  },
  {
   "cell_type": "code",
   "execution_count": 38,
   "id": "4d73a8c9-74bd-454a-95c9-17a77f7756a3",
   "metadata": {},
   "outputs": [],
   "source": [
    "counter = Counter(list2)"
   ]
  },
  {
   "cell_type": "markdown",
   "id": "664e13ef-b43c-46af-98e9-d106a0feae31",
   "metadata": {},
   "source": [
    "Counter produces a Counter object which contains a dictionary with the number as the key and the frequency as the value\n",
    "\n",
    "Example: `Counter({3: 3, 4: 1, 5: 1, 9: 1})`"
   ]
  },
  {
   "cell_type": "code",
   "execution_count": 39,
   "id": "e5783955-074f-46c3-a34c-6e4922fb4dfe",
   "metadata": {},
   "outputs": [
    {
     "name": "stdout",
     "output_type": "stream",
     "text": [
      "25358365\n"
     ]
    }
   ],
   "source": [
    "similarity_score = 0\n",
    "for item in list1:\n",
    "    similarity_score += item * counter[item]\n",
    "    \n",
    "print(similarity_score)"
   ]
  },
  {
   "cell_type": "code",
   "execution_count": null,
   "id": "157958cf-1602-4fe2-8ab4-c67373e4ecde",
   "metadata": {},
   "outputs": [],
   "source": []
  }
 ],
 "metadata": {
  "kernelspec": {
   "display_name": "Python 3",
   "language": "python",
   "name": "python3"
  },
  "language_info": {
   "codemirror_mode": {
    "name": "ipython",
    "version": 3
   },
   "file_extension": ".py",
   "mimetype": "text/x-python",
   "name": "python",
   "nbconvert_exporter": "python",
   "pygments_lexer": "ipython3",
   "version": "3.8.8"
  }
 },
 "nbformat": 4,
 "nbformat_minor": 5
}
